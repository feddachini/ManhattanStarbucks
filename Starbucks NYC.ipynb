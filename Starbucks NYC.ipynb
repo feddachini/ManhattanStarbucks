{
 "cells": [
  {
   "cell_type": "code",
   "execution_count": 7,
   "id": "590b4945",
   "metadata": {},
   "outputs": [],
   "source": [
    "import requests \n",
    "import numpy as np\n",
    "import matplotlib.pyplot as plt\n",
    "import pandas as pd\n",
    "import re\n",
    "import folium \n",
    "import json\n",
    "from folium import plugins \n",
    "import geopy.distance\n",
    "import seaborn as sns\n",
    "from shapely.geometry import Polygon, Point\n",
    "from shapely.ops import cascaded_union\n"
   ]
  },
  {
   "cell_type": "code",
   "execution_count": null,
   "id": "04eda16b",
   "metadata": {},
   "outputs": [],
   "source": []
  },
  {
   "cell_type": "code",
   "execution_count": 8,
   "id": "eb349112",
   "metadata": {},
   "outputs": [],
   "source": [
    "url = \"https://www.starbucks.com/store-locator?map=40.714215,-74.00819,14z&place=New%20York,%20NY,%20USA\"\n",
    "responseEx = requests.get(url)"
   ]
  },
  {
   "cell_type": "code",
   "execution_count": 9,
   "id": "a9e157bc",
   "metadata": {},
   "outputs": [
    {
     "data": {
      "text/plain": [
       "200"
      ]
     },
     "execution_count": 9,
     "metadata": {},
     "output_type": "execute_result"
    }
   ],
   "source": [
    "#200 = succsessful\n",
    "responseEx.status_code"
   ]
  },
  {
   "cell_type": "code",
   "execution_count": 10,
   "id": "ca5e5285",
   "metadata": {},
   "outputs": [
    {
     "data": {
      "text/plain": [
       "['Federico', 'Nelson']"
      ]
     },
     "execution_count": 10,
     "metadata": {},
     "output_type": "execute_result"
    }
   ],
   "source": [
    "#simple example of using regex\n",
    "# . = any char; * = 0 or more occurences of any char; ? = just one sequence \n",
    "#whatever is inside the parenthesis is what is returned\n",
    "#the backslash is used to escape the '{''}' special characters\n",
    "#without the presence of ?, the expression returns everything in between the first '{' and last '}'\n",
    "myText = \"{Federico} finfdajildhaf {Nelson}\"\n",
    "#return every sequence of sybmols inbetween '{' and (it's matching**) '}'\n",
    "re.findall(\"\\{(.*?)\\}\", myText)"
   ]
  },
  {
   "cell_type": "code",
   "execution_count": 28,
   "id": "0ea63c67",
   "metadata": {
    "scrolled": true
   },
   "outputs": [
    {
     "data": {
      "text/plain": [
       "[('40.71164', '-74.00666'),\n",
       " ('40.71105', '-74.00466'),\n",
       " ('40.71485', '-74.00593'),\n",
       " ('40.71378', '-74.00912'),\n",
       " ('40.71017', '-74.00793'),\n",
       " ('40.71553', '-74.00903'),\n",
       " ('40.71573', '-74.00311'),\n",
       " ('40.71219', '-74.01089'),\n",
       " ('40.71094', '-74.01035'),\n",
       " ('40.71102', '-74.00093'),\n",
       " ('40.71341', '-74.01178'),\n",
       " ('40.70841', '-74.0074'),\n",
       " ('40.71823', '-74.00732'),\n",
       " ('40.70872', '-74.01111'),\n",
       " ('40.70714', '-74.00498'),\n",
       " ('40.70631', '-74.00658'),\n",
       " ('40.7189', '-74.00251'),\n",
       " ('40.70921', '-74.01415'),\n",
       " ('40.71417', '-74.01543'),\n",
       " ('40.71104', '-74.01538'),\n",
       " ('40.70689', '-74.01301'),\n",
       " ('40.70481', '-74.00723'),\n",
       " ('40.72024', '-74.00098'),\n",
       " ('40.7046', '-74.00912'),\n",
       " ('40.70516', '-74.01129'),\n",
       " ('40.71979', '-73.99921'),\n",
       " ('40.72087', '-74.011'),\n",
       " ('40.70434', '-74.01301'),\n",
       " ('40.70328', '-74.01412'),\n",
       " ('40.72253', '-73.99795'),\n",
       " ('40.70204', '-74.01203'),\n",
       " ('40.72577', '-74.00557'),\n",
       " ('40.71932', '-73.98994'),\n",
       " ('40.72689', '-74.00026'),\n",
       " ('40.70269', '-73.9909'),\n",
       " ('40.72719', '-73.99546'),\n",
       " ('40.7294', '-74.005'),\n",
       " ('40.72453', '-73.98769'),\n",
       " ('40.72958', '-73.99624'),\n",
       " ('40.73', '-73.99165'),\n",
       " ('40.69456', '-73.99396'),\n",
       " ('40.73318', '-74.00284'),\n",
       " ('40.71604', '-74.03322'),\n",
       " ('40.72683', '-73.98316'),\n",
       " ('40.69244', '-73.99126'),\n",
       " ('40.694', '-73.98692'),\n",
       " ('40.73436', '-73.99236'),\n",
       " ('40.73667', '-74.00085'),\n",
       " ('40.72631', '-74.03315'),\n",
       " ('40.69176', '-73.98856'),\n",
       " ('40.71164', '-74.00666'),\n",
       " ('40.71105', '-74.00466'),\n",
       " ('40.71485', '-74.00593'),\n",
       " ('40.71378', '-74.00912'),\n",
       " ('40.71017', '-74.00793'),\n",
       " ('40.71553', '-74.00903'),\n",
       " ('40.71573', '-74.00311'),\n",
       " ('40.71219', '-74.01089'),\n",
       " ('40.71094', '-74.01035'),\n",
       " ('40.71102', '-74.00093'),\n",
       " ('40.71341', '-74.01178'),\n",
       " ('40.70841', '-74.0074'),\n",
       " ('40.71823', '-74.00732'),\n",
       " ('40.70872', '-74.01111'),\n",
       " ('40.70714', '-74.00498'),\n",
       " ('40.70631', '-74.00658'),\n",
       " ('40.7189', '-74.00251'),\n",
       " ('40.70921', '-74.01415'),\n",
       " ('40.71417', '-74.01543'),\n",
       " ('40.71104', '-74.01538'),\n",
       " ('40.70689', '-74.01301'),\n",
       " ('40.70481', '-74.00723'),\n",
       " ('40.72024', '-74.00098'),\n",
       " ('40.7046', '-74.00912'),\n",
       " ('40.70516', '-74.01129'),\n",
       " ('40.71979', '-73.99921'),\n",
       " ('40.72087', '-74.011'),\n",
       " ('40.70434', '-74.01301'),\n",
       " ('40.70328', '-74.01412'),\n",
       " ('40.72253', '-73.99795'),\n",
       " ('40.70204', '-74.01203'),\n",
       " ('40.72577', '-74.00557'),\n",
       " ('40.71932', '-73.98994'),\n",
       " ('40.72689', '-74.00026'),\n",
       " ('40.70269', '-73.9909'),\n",
       " ('40.72719', '-73.99546'),\n",
       " ('40.7294', '-74.005'),\n",
       " ('40.72453', '-73.98769'),\n",
       " ('40.72958', '-73.99624'),\n",
       " ('40.73', '-73.99165'),\n",
       " ('40.69456', '-73.99396'),\n",
       " ('40.73318', '-74.00284'),\n",
       " ('40.71604', '-74.03322'),\n",
       " ('40.72683', '-73.98316'),\n",
       " ('40.69244', '-73.99126'),\n",
       " ('40.694', '-73.98692'),\n",
       " ('40.73436', '-73.99236'),\n",
       " ('40.73667', '-74.00085'),\n",
       " ('40.72631', '-74.03315'),\n",
       " ('40.69176', '-73.98856')]"
      ]
     },
     "execution_count": 28,
     "metadata": {},
     "output_type": "execute_result"
    }
   ],
   "source": [
    "#use python regEx lib to get coordinates of starbucks\n",
    "re.findall(r'\"coordinates\":\\{\"latitude\":(.*?)\\,\"longitude\":(.*?)\\}', responseEx.text)"
   ]
  },
  {
   "cell_type": "code",
   "execution_count": 12,
   "id": "afee16db",
   "metadata": {},
   "outputs": [],
   "source": [
    "#open csv with nyc zip codes\n",
    "#get all manhattan zip codes"
   ]
  },
  {
   "cell_type": "code",
   "execution_count": 13,
   "id": "2a93174c",
   "metadata": {},
   "outputs": [],
   "source": [
    "#package all of the above into a function:\n",
    "\n",
    "def getStoreLatLong(zcode):\n",
    "    request = f'https://www.starbucks.com/store-locator?place={zcode}' #f-string for inserting zcode\n",
    "    try:\n",
    "        response = requests.get(request)\n",
    "    except:\n",
    "        print(\"getStoreLatLong: URL Request Error\")\n",
    "    lat_longs = re.findall(r'\"coordinates\":\\{\"latitude\":(.*?)\\,\"longitude\":(.*?)\\}', response.text)\n",
    "    return lat_longs\n"
   ]
  },
  {
   "cell_type": "code",
   "execution_count": 14,
   "id": "146b872a",
   "metadata": {},
   "outputs": [],
   "source": [
    "nycZips = pd.read_csv('nyc-zip-codes.csv')"
   ]
  },
  {
   "cell_type": "code",
   "execution_count": 15,
   "id": "a4578104",
   "metadata": {},
   "outputs": [],
   "source": [
    "starbucksLocs = []"
   ]
  },
  {
   "cell_type": "code",
   "execution_count": 16,
   "id": "433e333b",
   "metadata": {},
   "outputs": [],
   "source": [
    "#print(nycZips.to_string())"
   ]
  },
  {
   "cell_type": "code",
   "execution_count": 17,
   "id": "41a19305",
   "metadata": {},
   "outputs": [
    {
     "data": {
      "text/plain": [
       "{'Bronx', 'Brooklyn', 'Manhattan', 'Queens', 'Staten Island'}"
      ]
     },
     "execution_count": 17,
     "metadata": {},
     "output_type": "execute_result"
    }
   ],
   "source": [
    "set(nycZips.Borough.values)\n",
    "#zcode for zipCode in nycZips"
   ]
  },
  {
   "cell_type": "code",
   "execution_count": 18,
   "id": "e2771124",
   "metadata": {},
   "outputs": [],
   "source": [
    "manhattanZips = nycZips[nycZips.Borough == 'Manhattan'].ZipCode\n",
    "\n",
    "for i, zcode in enumerate(manhattanZips):\n",
    "    print(f'{i+1} / {len(manhattanZips)}') \n",
    "    starbucksLocs += getStoreLatLong(zcode)"
   ]
  },
  {
   "cell_type": "code",
   "execution_count": 19,
   "id": "ad461e04",
   "metadata": {},
   "outputs": [],
   "source": [
    "starbucksLocs = set(starbucksLocs) #remove duplicates\n",
    "starbucksLocs = list(starbucksLocs)"
   ]
  },
  {
   "cell_type": "code",
   "execution_count": 20,
   "id": "9a20803b",
   "metadata": {},
   "outputs": [
    {
     "data": {
      "text/plain": [
       "262"
      ]
     },
     "execution_count": 20,
     "metadata": {},
     "output_type": "execute_result"
    }
   ],
   "source": [
    "len(starbucksLocs) #num stores in Manhattan area"
   ]
  },
  {
   "cell_type": "code",
   "execution_count": 21,
   "id": "dc2bb456",
   "metadata": {},
   "outputs": [],
   "source": [
    "distMatrix = np.empty((len(starbucksLocs), len(starbucksLocs)))\n",
    "for i1,s1 in enumerate(starbucksLocs): #i = iterator, s = start\n",
    "    #for every store, get the distance between it(s1) and every other store(s2)\n",
    "    for i2,s2 in enumerate(starbucksLocs):\n",
    "        if i1 <= i2: \n",
    "            d = geopy.distance.geodesic(s1, s2).mi #get distance in miles between a pair two lat. & long.\n",
    "            distMatrix[i1,i2] = d\n",
    "            distMatrix[i2,i1] = d"
   ]
  },
  {
   "cell_type": "code",
   "execution_count": 22,
   "id": "27680a61",
   "metadata": {},
   "outputs": [],
   "source": [
    "np.fill_diagonal(distMatrix, np.inf) #fill in zeros of diaganol with Inf"
   ]
  },
  {
   "cell_type": "code",
   "execution_count": 23,
   "id": "51f76ef7",
   "metadata": {},
   "outputs": [],
   "source": [
    "closestLocs = np.argmin(distMatrix, axis=0) #closestLocs[i] is the closest location to the ith store from dist_matrix\n",
    "#print(dist_matrix[0,71]) #verifies result\n",
    "closestDists = distMatrix[np.arange(len(starbucksLocs)), closestLocs] #gets the values of the shortest distance to a store (aka distance to the closest store)\n"
   ]
  },
  {
   "cell_type": "code",
   "execution_count": 24,
   "id": "f4301b9e",
   "metadata": {},
   "outputs": [],
   "source": [
    "#map of NYC\n",
    "with open('manhattan2.geojson') as f:\n",
    "    nycArea = json.load(f)\n",
    "    \n",
    "nycCoordinates = nycArea['features'][0]['geometry']['coordinates'][0]\n",
    "polygon = Polygon(nycCoordinates)\n",
    "\n",
    "#initialize the map around nyc \n",
    "nycMap = folium.Map(location=[40.7831, -73.9712], tiles='Stamen Toner', zoom_start=12)\n",
    "\n",
    "#add the shape of Manhattan to the map\n",
    "folium.GeoJson(nycArea).add_to(nycMap)\n",
    "\n",
    "\n",
    "#for each row in the Starbucks dataset, plot the corresponding latitude and longitude on the map\n",
    "ptsWithinMhtn = []\n",
    "for lat,lng in starbucksLocs:\n",
    "    if polygon.contains(Point(lng,lat)):\n",
    "        folium.CircleMarker(\n",
    "            (lat, lng), \n",
    "            radius=4, \n",
    "            weight=2, \n",
    "            color='red', \n",
    "            fill_color='red', \n",
    "            fill_opacity=.5).add_to(nycMap)\n",
    "        \n",
    "        \n",
    "closest_dists_lim = []\n",
    "closestLocs = np.argmin(distMatrix, axis=0)\n",
    "for i1,s1 in enumerate(starbucksLocs):\n",
    "    if polygon.contains(Point(s1[1],s1[0])):\n",
    "        s2 = starbucksLocs[closestLocs[i1]]\n",
    "        d = round(closestDists[i1], 2)\n",
    "        s1 = (float(s1[0]),float(s1[1]))\n",
    "        folium.PolyLine([s1,s2], color='black', popup=f'{d} miles', fontsize=20).add_to(nycMap)        \n",
    "        closest_dists_lim.append(d)\n",
    "        \n",
    "closest_dists_lim = np.array(closest_dists_lim)\n",
    "\n",
    "\n",
    "\n",
    "#save the map as an html    \n",
    "nycMap.save('nyc.html')\n"
   ]
  },
  {
   "cell_type": "code",
   "execution_count": 27,
   "id": "a694e800",
   "metadata": {},
   "outputs": [
    {
     "data": {
      "text/plain": [
       "<matplotlib.lines.Line2D at 0x14797cdf0>"
      ]
     },
     "execution_count": 27,
     "metadata": {},
     "output_type": "execute_result"
    },
    {
     "data": {
      "image/png": "[encoded data removed]",
      "text/plain": [
       "<Figure size 1600x500 with 1 Axes>"
      ]
     },
     "metadata": {},
     "output_type": "display_data"
    }
   ],
   "source": [
    "plt.figure(figsize=(16,5))\n",
    "sns.histplot(closest_dists_lim, kde=True, line_kws={'linewidth': 3}, stat='density')\n",
    "plt.xlabel('miles to closest Starbucks', fontsize=20)\n",
    "plt.xticks(np.arange(0, 1.5), fontsize=16)\n",
    "plt.ylabel('Density', fontsize=20)\n",
    "plt.axvline(np.mean(closestDists), color='k', linestyle='--', linewidth=2.5, alpha=0.5)"
   ]
  }
 ],
 "metadata": {
  "kernelspec": {
   "display_name": "Python 3 (ipykernel)",
   "language": "python",
   "name": "python3"
  },
  "language_info": {
   "codemirror_mode": {
    "name": "ipython",
    "version": 3
   },
   "file_extension": ".py",
   "mimetype": "text/x-python",
   "name": "python",
   "nbconvert_exporter": "python",
   "pygments_lexer": "ipython3",
   "version": "3.9.13"
  }
 },
 "nbformat": 4,
 "nbformat_minor": 5
}
